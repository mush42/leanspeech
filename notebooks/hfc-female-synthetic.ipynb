{
 "cells": [
  {
   "cell_type": "markdown",
   "metadata": {},
   "source": [
    "## LeanSpeech Training: HFC-Female (en-US)\n",
    "This notebook allows you to train [LeanSpeech TTS](https://github.com/mush42/leanspeech) on [HiFiCaptin en-US female dataset](https://ast-astrec.nict.go.jp/en/release/hi-fi-captain/)\n"
   ]
  },
  {
   "cell_type": "markdown",
   "metadata": {},
   "source": [
    "## Plumming"
   ]
  },
  {
   "cell_type": "code",
   "execution_count": null,
   "metadata": {
    "vscode": {
     "languageId": "plaintext"
    }
   },
   "outputs": [],
   "source": [
    "#@markdown ### Google Colab Anti-Disconnect\n",
    "#@markdown Avoid automatic disconnection. Still, it will disconnect after **6 to 12 hours**.\n",
    "\n",
    "import IPython\n",
    "js_code = '''\n",
    "function ClickConnect(){\n",
    "console.log(\"Working\");\n",
    "document.querySelector(\"colab-toolbar-button#connect\").click()\n",
    "}\n",
    "setInterval(ClickConnect,60000)\n",
    "'''\n",
    "display(IPython.display.Javascript(js_code))\n",
    "\n",
    "\n",
    "#@markdown ### Check GPU type\n",
    "#@markdown A higher capable GPU can lead to faster training speeds. By default, you will have a **Tesla T4**.\n",
    "!nvidia-smi"
   ]
  },
  {
   "cell_type": "markdown",
   "metadata": {},
   "source": [
    "## Mount Google Drive"
   ]
  },
  {
   "cell_type": "code",
   "execution_count": null,
   "metadata": {
    "vscode": {
     "languageId": "plaintext"
    }
   },
   "outputs": [],
   "source": [
    "from google.colab import drive\n",
    "drive.mount('/content/drive', force_remount=True)"
   ]
  },
  {
   "cell_type": "markdown",
   "metadata": {},
   "source": [
    "## Prepare environment"
   ]
  },
  {
   "cell_type": "code",
   "execution_count": null,
   "metadata": {
    "vscode": {
     "languageId": "plaintext"
    }
   },
   "outputs": [],
   "source": [
    "#@markdown ### Clone leanSpeech repository\n",
    "\n",
    "import os\n",
    "\n",
    "if not os.path.isdir(os.path.join(os.getcwd(), \"leanspeech\")):\n",
    "    print(\"Cloning leanspeech repository...\")\n",
    "    !git clone --depth=1 https://github.com/mush42/leanspeech\n",
    "\n",
    "#@markdown ### Upgrade packages\n",
    "\n",
    "!pip3 install --upgrade pip setuptools wheel\n",
    "\n",
    "#@markdown ### Install leanspeech dependencies\n",
    "\n",
    "%cd /content/leanspeech\n",
    "!pip3 install -r requirements.txt\n",
    "\n",
    "# Install onnxruntime with supported cua version\n",
    "!pip3 install onnxruntime-gpu --extra-index-url https://aiinfra.pkgs.visualstudio.com/PublicPackages/_packaging/onnxruntime-cuda-12/pypi/simple/"
   ]
  },
  {
   "cell_type": "markdown",
   "metadata": {},
   "source": [
    "## Upload sentences to generate synthetic dataset"
   ]
  },
  {
   "cell_type": "code",
   "execution_count": null,
   "metadata": {
    "vscode": {
     "languageId": "plaintext"
    }
   },
   "outputs": [],
   "source": [
    "from google.colab import files\n",
    "\n",
    "uploaded = files.upload()\n",
    "(filename, file_content) = tuple(uploaded.items())[0]\n",
    "print(f\"Uploaded file: {filename}\")\n",
    "source_text = file_content.decode(\"utf-8\")\n",
    "source_lines = source_text.splitlines()\n",
    "source_lines = [line for l in source_lines if (line := l.strip())]\n",
    "print(f\"Found {len(source_lines)} lines in the uploaded file\")\n",
    "with open(\"sentences.txt\", \"w\", encoding=\"utf-8\") as outfile:\n",
    "    outfile.write(\"\\n\".join(source_lines ))\n",
    "print(\"Wrote lines to `sentences.txt`\")"
   ]
  },
  {
   "cell_type": "markdown",
   "metadata": {},
   "source": [
    "## Generate synthetic dataset"
   ]
  },
  {
   "cell_type": "code",
   "execution_count": null,
   "metadata": {
    "vscode": {
     "languageId": "plaintext"
    }
   },
   "outputs": [],
   "source": [
    "print(\"Downloading Matcha ONNX...\")\n",
    "%cd /content/leanspeech\n",
    "!wget -O \"matcha-hfc_female.onnx\" \"https://drive.google.com/uc?export=download&id=18ysTCnXipCzzK6LxJtXFJvpDa6QKt7Ol\"\n",
    "\n",
    "%cd /content/leanspeech\n",
    "!python3 -m leanspeech.tools.matcha_synthetic \\\n",
    "    --batch-size 64 \\\n",
    "    --mel-mean \"-6.38385\" \\\n",
    "    --mel-std 2.541796 \\\n",
    "    --val-percent 0.025 \\\n",
    "    --cuda \\\n",
    "    matcha-hfc_female.onnx \\\n",
    "    en-us \\\n",
    "    /content/sentences.txt \\\n",
    "    ./data/synthetic\n"
   ]
  },
  {
   "cell_type": "markdown",
   "metadata": {},
   "source": [
    "## Start training"
   ]
  },
  {
   "cell_type": "code",
   "execution_count": null,
   "metadata": {
    "vscode": {
     "languageId": "plaintext"
    }
   },
   "outputs": [],
   "source": [
    "%cd /content/leanspeech\n",
    "!python3 -m leanspeech.train \\\n",
    "    experiment=\"hfc_female-en_US\" \\\n",
    "    data.train_filelist_path=\"data/synthetic/train.txt\" \\\n",
    "    data.valid_filelist_path=\"data/synthetic/val.txt\" \\\n",
    "    data.batch_size=64 \\\n",
    "    paths.log_dir=\"/content/drive/MyDrive/leanspeech/logs\"\n"
   ]
  }
 ],
 "metadata": {
  "language_info": {
   "name": "python"
  }
 },
 "nbformat": 4,
 "nbformat_minor": 2
}
